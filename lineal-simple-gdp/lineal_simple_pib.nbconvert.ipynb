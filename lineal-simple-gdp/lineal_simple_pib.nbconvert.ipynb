{
 "cells": [
  {
   "cell_type": "markdown",
   "metadata": {
    "colab_type": "text",
    "id": "view-in-github"
   },
   "source": [
    "<a href=\"https://colab.research.google.com/github/fabherhe/regressions/blob/main/lineal_simple_pib.ipynb\" target=\"_parent\"><img src=\"https://colab.research.google.com/assets/colab-badge.svg\" alt=\"Open In Colab\"/></a>"
   ]
  },
  {
   "cell_type": "markdown",
   "metadata": {
    "id": "tsF0FPzdccXf"
   },
   "source": [
    "# Cleaning"
   ]
  },
  {
   "cell_type": "code",
   "execution_count": 1,
   "metadata": {
    "execution": {
     "iopub.execute_input": "2023-01-11T06:59:36.710901Z",
     "iopub.status.busy": "2023-01-11T06:59:36.709421Z",
     "iopub.status.idle": "2023-01-11T06:59:38.894154Z",
     "shell.execute_reply": "2023-01-11T06:59:38.893073Z"
    },
    "id": "MP7FmsmSNx-N"
   },
   "outputs": [],
   "source": [
    "#don't forget upload the csv\n",
    "import pandas as pd\n",
    "import matplotlib.pyplot as plt\n",
    "import numpy as np\n",
    "from sklearn.linear_model import LinearRegression\n",
    "from sklearn.model_selection import train_test_split\n",
    "from sklearn.metrics import mean_squared_error\n",
    "from sklearn.metrics import mean_absolute_error\n",
    "\n",
    "gdp = pd.read_csv(\"gdp_data.csv\", header=2)"
   ]
  },
  {
   "cell_type": "code",
   "execution_count": 2,
   "metadata": {
    "colab": {
     "base_uri": "https://localhost:8080/"
    },
    "execution": {
     "iopub.execute_input": "2023-01-11T06:59:38.900034Z",
     "iopub.status.busy": "2023-01-11T06:59:38.899486Z",
     "iopub.status.idle": "2023-01-11T06:59:38.953063Z",
     "shell.execute_reply": "2023-01-11T06:59:38.950822Z"
    },
    "id": "gNBmh1lLQEey",
    "outputId": "81fe4900-be75-4ba2-9f1f-058f1daeab4e"
   },
   "outputs": [
    {
     "name": "stdout",
     "output_type": "stream",
     "text": [
      "<class 'pandas.core.frame.DataFrame'>\n",
      "RangeIndex: 266 entries, 0 to 265\n",
      "Data columns (total 66 columns):\n",
      " #   Column          Non-Null Count  Dtype \n",
      "---  ------          --------------  ----- \n",
      " 0   Country Name    266 non-null    object\n",
      " 1   Country Code    266 non-null    object\n",
      " 2   Indicator Name  266 non-null    object\n",
      " 3   Indicator Code  266 non-null    object\n",
      " 4   1960            133 non-null    object\n",
      " 5   1961            135 non-null    object\n",
      " 6   1962            137 non-null    object\n",
      " 7   1963            137 non-null    object\n",
      " 8   1964            137 non-null    object\n",
      " 9   1965            148 non-null    object\n",
      " 10  1966            151 non-null    object\n",
      " 11  1967            155 non-null    object\n",
      " 12  1968            160 non-null    object\n",
      " 13  1969            160 non-null    object\n",
      " 14  1970            169 non-null    object\n",
      " 15  1971            172 non-null    object\n",
      " 16  1972            172 non-null    object\n",
      " 17  1973            172 non-null    object\n",
      " 18  1974            173 non-null    object\n",
      " 19  1975            175 non-null    object\n",
      " 20  1976            176 non-null    object\n",
      " 21  1977            179 non-null    object\n",
      " 22  1978            178 non-null    object\n",
      " 23  1979            179 non-null    object\n",
      " 24  1980            191 non-null    object\n",
      " 25  1981            194 non-null    object\n",
      " 26  1982            195 non-null    object\n",
      " 27  1983            196 non-null    object\n",
      " 28  1984            197 non-null    object\n",
      " 29  1985            199 non-null    object\n",
      " 30  1986            201 non-null    object\n",
      " 31  1987            205 non-null    object\n",
      " 32  1988            210 non-null    object\n",
      " 33  1989            210 non-null    object\n",
      " 34  1990            226 non-null    object\n",
      " 35  1991            226 non-null    object\n",
      " 36  1992            227 non-null    object\n",
      " 37  1993            229 non-null    object\n",
      " 38  1994            231 non-null    object\n",
      " 39  1995            240 non-null    object\n",
      " 40  1996            240 non-null    object\n",
      " 41  1997            240 non-null    object\n",
      " 42  1998            242 non-null    object\n",
      " 43  1999            243 non-null    object\n",
      " 44  2000            247 non-null    object\n",
      " 45  2001            248 non-null    object\n",
      " 46  2002            253 non-null    object\n",
      " 47  2003            253 non-null    object\n",
      " 48  2004            253 non-null    object\n",
      " 49  2005            253 non-null    object\n",
      " 50  2006            254 non-null    object\n",
      " 51  2007            254 non-null    object\n",
      " 52  2008            255 non-null    object\n",
      " 53  2009            255 non-null    object\n",
      " 54  2010            256 non-null    object\n",
      " 55  2011            259 non-null    object\n",
      " 56  2012            257 non-null    object\n",
      " 57  2013            258 non-null    object\n",
      " 58  2014            259 non-null    object\n",
      " 59  2015            258 non-null    object\n",
      " 60  2016            257 non-null    object\n",
      " 61  2017            257 non-null    object\n",
      " 62  2018            257 non-null    object\n",
      " 63  2019            255 non-null    object\n",
      " 64  2020            251 non-null    object\n",
      " 65  2021            229 non-null    object\n",
      "dtypes: object(66)\n",
      "memory usage: 137.3+ KB\n"
     ]
    }
   ],
   "source": [
    "gdp.info()"
   ]
  },
  {
   "cell_type": "code",
   "execution_count": 3,
   "metadata": {
    "execution": {
     "iopub.execute_input": "2023-01-11T06:59:39.049042Z",
     "iopub.status.busy": "2023-01-11T06:59:39.048499Z",
     "iopub.status.idle": "2023-01-11T06:59:39.056426Z",
     "shell.execute_reply": "2023-01-11T06:59:39.055356Z"
    },
    "id": "yZdbY7rOQF76"
   },
   "outputs": [],
   "source": [
    "# Select rows where the \"Country Name\" column contains \"World\"\n",
    "world = gdp.loc[gdp[\"Country Name\"].str.contains(\"World\")]"
   ]
  },
  {
   "cell_type": "code",
   "execution_count": 4,
   "metadata": {
    "colab": {
     "base_uri": "https://localhost:8080/",
     "height": 292
    },
    "execution": {
     "iopub.execute_input": "2023-01-11T06:59:39.061247Z",
     "iopub.status.busy": "2023-01-11T06:59:39.060713Z",
     "iopub.status.idle": "2023-01-11T06:59:39.122158Z",
     "shell.execute_reply": "2023-01-11T06:59:39.120622Z"
    },
    "id": "y52f3DqaXp28",
    "outputId": "7df2fd84-890c-4a6e-a384-42841dd09990"
   },
   "outputs": [
    {
     "data": {
      "text/html": [
       "<div>\n",
       "<style scoped>\n",
       "    .dataframe tbody tr th:only-of-type {\n",
       "        vertical-align: middle;\n",
       "    }\n",
       "\n",
       "    .dataframe tbody tr th {\n",
       "        vertical-align: top;\n",
       "    }\n",
       "\n",
       "    .dataframe thead th {\n",
       "        text-align: right;\n",
       "    }\n",
       "</style>\n",
       "<table border=\"1\" class=\"dataframe\">\n",
       "  <thead>\n",
       "    <tr style=\"text-align: right;\">\n",
       "      <th></th>\n",
       "      <th>Country Name</th>\n",
       "      <th>Country Code</th>\n",
       "      <th>Indicator Name</th>\n",
       "      <th>Indicator Code</th>\n",
       "      <th>1960</th>\n",
       "      <th>1961</th>\n",
       "      <th>1962</th>\n",
       "      <th>1963</th>\n",
       "      <th>1964</th>\n",
       "      <th>1965</th>\n",
       "      <th>...</th>\n",
       "      <th>2012</th>\n",
       "      <th>2013</th>\n",
       "      <th>2014</th>\n",
       "      <th>2015</th>\n",
       "      <th>2016</th>\n",
       "      <th>2017</th>\n",
       "      <th>2018</th>\n",
       "      <th>2019</th>\n",
       "      <th>2020</th>\n",
       "      <th>2021</th>\n",
       "    </tr>\n",
       "  </thead>\n",
       "  <tbody>\n",
       "    <tr>\n",
       "      <th>7</th>\n",
       "      <td>Arab World</td>\n",
       "      <td>ARB</td>\n",
       "      <td>GDP (current US$)</td>\n",
       "      <td>NY.GDP.MKTP.CD</td>\n",
       "      <td>NaN</td>\n",
       "      <td>NaN</td>\n",
       "      <td>NaN</td>\n",
       "      <td>NaN</td>\n",
       "      <td>NaN</td>\n",
       "      <td>NaN</td>\n",
       "      <td>...</td>\n",
       "      <td>2,778,076,501,107</td>\n",
       "      <td>2,834,607,141,427</td>\n",
       "      <td>2,876,010,443,892</td>\n",
       "      <td>2,518,700,620,586</td>\n",
       "      <td>2,495,864,756,764</td>\n",
       "      <td>2,584,096,654,452</td>\n",
       "      <td>2,785,878,075,917</td>\n",
       "      <td>2,808,099,764,578</td>\n",
       "      <td>2,496,251,185,652</td>\n",
       "      <td>2,850,421,035,169</td>\n",
       "    </tr>\n",
       "    <tr>\n",
       "      <th>259</th>\n",
       "      <td>World</td>\n",
       "      <td>WLD</td>\n",
       "      <td>GDP (current US$)</td>\n",
       "      <td>NY.GDP.MKTP.CD</td>\n",
       "      <td>1,392,052,952,994</td>\n",
       "      <td>1,448,393,308,163</td>\n",
       "      <td>1,550,299,476,381</td>\n",
       "      <td>1,671,346,856,960</td>\n",
       "      <td>1,829,998,519,951</td>\n",
       "      <td>1,993,586,721,619</td>\n",
       "      <td>...</td>\n",
       "      <td>75,488,064,175,234</td>\n",
       "      <td>77,607,198,470,256</td>\n",
       "      <td>79,708,812,241,365</td>\n",
       "      <td>75,179,266,270,828</td>\n",
       "      <td>76,465,590,005,079</td>\n",
       "      <td>81,403,977,427,443</td>\n",
       "      <td>86,413,032,779,060</td>\n",
       "      <td>87,652,863,215,993</td>\n",
       "      <td>84,906,814,189,240</td>\n",
       "      <td>96,100,091,004,541</td>\n",
       "    </tr>\n",
       "  </tbody>\n",
       "</table>\n",
       "<p>2 rows × 66 columns</p>\n",
       "</div>"
      ],
      "text/plain": [
       "    Country Name Country Code     Indicator Name  Indicator Code  \\\n",
       "7     Arab World          ARB  GDP (current US$)  NY.GDP.MKTP.CD   \n",
       "259        World          WLD  GDP (current US$)  NY.GDP.MKTP.CD   \n",
       "\n",
       "                    1960                 1961                 1962  \\\n",
       "7                    NaN                  NaN                  NaN   \n",
       "259   1,392,052,952,994    1,448,393,308,163    1,550,299,476,381    \n",
       "\n",
       "                    1963                 1964                 1965  ...  \\\n",
       "7                    NaN                  NaN                  NaN  ...   \n",
       "259   1,671,346,856,960    1,829,998,519,951    1,993,586,721,619   ...   \n",
       "\n",
       "                     2012                  2013                  2014  \\\n",
       "7      2,778,076,501,107     2,834,607,141,427     2,876,010,443,892    \n",
       "259   75,488,064,175,234    77,607,198,470,256    79,708,812,241,365    \n",
       "\n",
       "                     2015                  2016                  2017  \\\n",
       "7      2,518,700,620,586     2,495,864,756,764     2,584,096,654,452    \n",
       "259   75,179,266,270,828    76,465,590,005,079    81,403,977,427,443    \n",
       "\n",
       "                     2018                  2019                  2020  \\\n",
       "7      2,785,878,075,917     2,808,099,764,578     2,496,251,185,652    \n",
       "259   86,413,032,779,060    87,652,863,215,993    84,906,814,189,240    \n",
       "\n",
       "                     2021  \n",
       "7      2,850,421,035,169   \n",
       "259   96,100,091,004,541   \n",
       "\n",
       "[2 rows x 66 columns]"
      ]
     },
     "execution_count": 4,
     "metadata": {},
     "output_type": "execute_result"
    }
   ],
   "source": [
    "#print the variable to see the content\n",
    "world.head()"
   ]
  },
  {
   "cell_type": "code",
   "execution_count": 5,
   "metadata": {
    "execution": {
     "iopub.execute_input": "2023-01-11T06:59:39.129897Z",
     "iopub.status.busy": "2023-01-11T06:59:39.129192Z",
     "iopub.status.idle": "2023-01-11T06:59:39.137570Z",
     "shell.execute_reply": "2023-01-11T06:59:39.135903Z"
    },
    "id": "pNe9m438ZD5a"
   },
   "outputs": [],
   "source": [
    "#borramos primera fila mundo arabe\n",
    "world = world.drop(world.index[0])"
   ]
  },
  {
   "cell_type": "code",
   "execution_count": 6,
   "metadata": {
    "colab": {
     "base_uri": "https://localhost:8080/",
     "height": 226
    },
    "execution": {
     "iopub.execute_input": "2023-01-11T06:59:39.144793Z",
     "iopub.status.busy": "2023-01-11T06:59:39.143602Z",
     "iopub.status.idle": "2023-01-11T06:59:39.180520Z",
     "shell.execute_reply": "2023-01-11T06:59:39.179462Z"
    },
    "id": "n3sswe4eaTxJ",
    "outputId": "7cb1ac28-a1e1-47b2-abfa-e9eaa35236ca"
   },
   "outputs": [
    {
     "data": {
      "text/html": [
       "<div>\n",
       "<style scoped>\n",
       "    .dataframe tbody tr th:only-of-type {\n",
       "        vertical-align: middle;\n",
       "    }\n",
       "\n",
       "    .dataframe tbody tr th {\n",
       "        vertical-align: top;\n",
       "    }\n",
       "\n",
       "    .dataframe thead th {\n",
       "        text-align: right;\n",
       "    }\n",
       "</style>\n",
       "<table border=\"1\" class=\"dataframe\">\n",
       "  <thead>\n",
       "    <tr style=\"text-align: right;\">\n",
       "      <th></th>\n",
       "      <th>Country Name</th>\n",
       "      <th>Country Code</th>\n",
       "      <th>Indicator Name</th>\n",
       "      <th>Indicator Code</th>\n",
       "      <th>1960</th>\n",
       "      <th>1961</th>\n",
       "      <th>1962</th>\n",
       "      <th>1963</th>\n",
       "      <th>1964</th>\n",
       "      <th>1965</th>\n",
       "      <th>...</th>\n",
       "      <th>2012</th>\n",
       "      <th>2013</th>\n",
       "      <th>2014</th>\n",
       "      <th>2015</th>\n",
       "      <th>2016</th>\n",
       "      <th>2017</th>\n",
       "      <th>2018</th>\n",
       "      <th>2019</th>\n",
       "      <th>2020</th>\n",
       "      <th>2021</th>\n",
       "    </tr>\n",
       "  </thead>\n",
       "  <tbody>\n",
       "    <tr>\n",
       "      <th>259</th>\n",
       "      <td>World</td>\n",
       "      <td>WLD</td>\n",
       "      <td>GDP (current US$)</td>\n",
       "      <td>NY.GDP.MKTP.CD</td>\n",
       "      <td>1,392,052,952,994</td>\n",
       "      <td>1,448,393,308,163</td>\n",
       "      <td>1,550,299,476,381</td>\n",
       "      <td>1,671,346,856,960</td>\n",
       "      <td>1,829,998,519,951</td>\n",
       "      <td>1,993,586,721,619</td>\n",
       "      <td>...</td>\n",
       "      <td>75,488,064,175,234</td>\n",
       "      <td>77,607,198,470,256</td>\n",
       "      <td>79,708,812,241,365</td>\n",
       "      <td>75,179,266,270,828</td>\n",
       "      <td>76,465,590,005,079</td>\n",
       "      <td>81,403,977,427,443</td>\n",
       "      <td>86,413,032,779,060</td>\n",
       "      <td>87,652,863,215,993</td>\n",
       "      <td>84,906,814,189,240</td>\n",
       "      <td>96,100,091,004,541</td>\n",
       "    </tr>\n",
       "  </tbody>\n",
       "</table>\n",
       "<p>1 rows × 66 columns</p>\n",
       "</div>"
      ],
      "text/plain": [
       "    Country Name Country Code     Indicator Name  Indicator Code  \\\n",
       "259        World          WLD  GDP (current US$)  NY.GDP.MKTP.CD   \n",
       "\n",
       "                    1960                 1961                 1962  \\\n",
       "259   1,392,052,952,994    1,448,393,308,163    1,550,299,476,381    \n",
       "\n",
       "                    1963                 1964                 1965  ...  \\\n",
       "259   1,671,346,856,960    1,829,998,519,951    1,993,586,721,619   ...   \n",
       "\n",
       "                     2012                  2013                  2014  \\\n",
       "259   75,488,064,175,234    77,607,198,470,256    79,708,812,241,365    \n",
       "\n",
       "                     2015                  2016                  2017  \\\n",
       "259   75,179,266,270,828    76,465,590,005,079    81,403,977,427,443    \n",
       "\n",
       "                     2018                  2019                  2020  \\\n",
       "259   86,413,032,779,060    87,652,863,215,993    84,906,814,189,240    \n",
       "\n",
       "                     2021  \n",
       "259   96,100,091,004,541   \n",
       "\n",
       "[1 rows x 66 columns]"
      ]
     },
     "execution_count": 6,
     "metadata": {},
     "output_type": "execute_result"
    }
   ],
   "source": [
    "world.head()"
   ]
  },
  {
   "cell_type": "code",
   "execution_count": 7,
   "metadata": {
    "colab": {
     "base_uri": "https://localhost:8080/",
     "height": 226
    },
    "execution": {
     "iopub.execute_input": "2023-01-11T06:59:39.185461Z",
     "iopub.status.busy": "2023-01-11T06:59:39.185135Z",
     "iopub.status.idle": "2023-01-11T06:59:39.217881Z",
     "shell.execute_reply": "2023-01-11T06:59:39.216659Z"
    },
    "id": "duaClrL_uunH",
    "outputId": "50bdb3b5-6d5d-46c7-ab72-6e33cbad755b"
   },
   "outputs": [
    {
     "data": {
      "text/html": [
       "<div>\n",
       "<style scoped>\n",
       "    .dataframe tbody tr th:only-of-type {\n",
       "        vertical-align: middle;\n",
       "    }\n",
       "\n",
       "    .dataframe tbody tr th {\n",
       "        vertical-align: top;\n",
       "    }\n",
       "\n",
       "    .dataframe thead th {\n",
       "        text-align: right;\n",
       "    }\n",
       "</style>\n",
       "<table border=\"1\" class=\"dataframe\">\n",
       "  <thead>\n",
       "    <tr style=\"text-align: right;\">\n",
       "      <th></th>\n",
       "      <th>index</th>\n",
       "      <th>Country Name</th>\n",
       "      <th>Country Code</th>\n",
       "      <th>Indicator Name</th>\n",
       "      <th>Indicator Code</th>\n",
       "      <th>1960</th>\n",
       "      <th>1961</th>\n",
       "      <th>1962</th>\n",
       "      <th>1963</th>\n",
       "      <th>1964</th>\n",
       "      <th>...</th>\n",
       "      <th>2012</th>\n",
       "      <th>2013</th>\n",
       "      <th>2014</th>\n",
       "      <th>2015</th>\n",
       "      <th>2016</th>\n",
       "      <th>2017</th>\n",
       "      <th>2018</th>\n",
       "      <th>2019</th>\n",
       "      <th>2020</th>\n",
       "      <th>2021</th>\n",
       "    </tr>\n",
       "  </thead>\n",
       "  <tbody>\n",
       "    <tr>\n",
       "      <th>0</th>\n",
       "      <td>259</td>\n",
       "      <td>World</td>\n",
       "      <td>WLD</td>\n",
       "      <td>GDP (current US$)</td>\n",
       "      <td>NY.GDP.MKTP.CD</td>\n",
       "      <td>1,392,052,952,994</td>\n",
       "      <td>1,448,393,308,163</td>\n",
       "      <td>1,550,299,476,381</td>\n",
       "      <td>1,671,346,856,960</td>\n",
       "      <td>1,829,998,519,951</td>\n",
       "      <td>...</td>\n",
       "      <td>75,488,064,175,234</td>\n",
       "      <td>77,607,198,470,256</td>\n",
       "      <td>79,708,812,241,365</td>\n",
       "      <td>75,179,266,270,828</td>\n",
       "      <td>76,465,590,005,079</td>\n",
       "      <td>81,403,977,427,443</td>\n",
       "      <td>86,413,032,779,060</td>\n",
       "      <td>87,652,863,215,993</td>\n",
       "      <td>84,906,814,189,240</td>\n",
       "      <td>96,100,091,004,541</td>\n",
       "    </tr>\n",
       "  </tbody>\n",
       "</table>\n",
       "<p>1 rows × 67 columns</p>\n",
       "</div>"
      ],
      "text/plain": [
       "   index Country Name Country Code     Indicator Name  Indicator Code  \\\n",
       "0    259        World          WLD  GDP (current US$)  NY.GDP.MKTP.CD   \n",
       "\n",
       "                  1960                 1961                 1962  \\\n",
       "0   1,392,052,952,994    1,448,393,308,163    1,550,299,476,381    \n",
       "\n",
       "                  1963                 1964  ...                  2012  \\\n",
       "0   1,671,346,856,960    1,829,998,519,951   ...   75,488,064,175,234    \n",
       "\n",
       "                   2013                  2014                  2015  \\\n",
       "0   77,607,198,470,256    79,708,812,241,365    75,179,266,270,828    \n",
       "\n",
       "                   2016                  2017                  2018  \\\n",
       "0   76,465,590,005,079    81,403,977,427,443    86,413,032,779,060    \n",
       "\n",
       "                   2019                  2020                  2021  \n",
       "0   87,652,863,215,993    84,906,814,189,240    96,100,091,004,541   \n",
       "\n",
       "[1 rows x 67 columns]"
      ]
     },
     "execution_count": 7,
     "metadata": {},
     "output_type": "execute_result"
    }
   ],
   "source": [
    "# Display the rows of the DataFrame with their indices\n",
    "world.reset_index(inplace=True)\n",
    "world.head()"
   ]
  },
  {
   "cell_type": "code",
   "execution_count": 8,
   "metadata": {
    "execution": {
     "iopub.execute_input": "2023-01-11T06:59:39.223712Z",
     "iopub.status.busy": "2023-01-11T06:59:39.222710Z",
     "iopub.status.idle": "2023-01-11T06:59:39.231160Z",
     "shell.execute_reply": "2023-01-11T06:59:39.229946Z"
    },
    "id": "NykkkcKkzDEE"
   },
   "outputs": [],
   "source": [
    "world = world.rename(columns={\"Country Name\": \"Index\"})"
   ]
  },
  {
   "cell_type": "code",
   "execution_count": 9,
   "metadata": {
    "colab": {
     "base_uri": "https://localhost:8080/",
     "height": 174
    },
    "execution": {
     "iopub.execute_input": "2023-01-11T06:59:39.238685Z",
     "iopub.status.busy": "2023-01-11T06:59:39.236491Z",
     "iopub.status.idle": "2023-01-11T06:59:39.266509Z",
     "shell.execute_reply": "2023-01-11T06:59:39.265274Z"
    },
    "id": "CFXHRmRB0SkE",
    "outputId": "3d0c9292-e0bb-4910-ff57-555eb46bc6c6"
   },
   "outputs": [
    {
     "data": {
      "text/html": [
       "<div>\n",
       "<style scoped>\n",
       "    .dataframe tbody tr th:only-of-type {\n",
       "        vertical-align: middle;\n",
       "    }\n",
       "\n",
       "    .dataframe tbody tr th {\n",
       "        vertical-align: top;\n",
       "    }\n",
       "\n",
       "    .dataframe thead th {\n",
       "        text-align: right;\n",
       "    }\n",
       "</style>\n",
       "<table border=\"1\" class=\"dataframe\">\n",
       "  <thead>\n",
       "    <tr style=\"text-align: right;\">\n",
       "      <th></th>\n",
       "      <th>Index</th>\n",
       "      <th>1960</th>\n",
       "      <th>1961</th>\n",
       "      <th>1962</th>\n",
       "      <th>1963</th>\n",
       "      <th>1964</th>\n",
       "      <th>1965</th>\n",
       "      <th>1966</th>\n",
       "      <th>1967</th>\n",
       "      <th>1968</th>\n",
       "      <th>...</th>\n",
       "      <th>2012</th>\n",
       "      <th>2013</th>\n",
       "      <th>2014</th>\n",
       "      <th>2015</th>\n",
       "      <th>2016</th>\n",
       "      <th>2017</th>\n",
       "      <th>2018</th>\n",
       "      <th>2019</th>\n",
       "      <th>2020</th>\n",
       "      <th>2021</th>\n",
       "    </tr>\n",
       "  </thead>\n",
       "  <tbody>\n",
       "    <tr>\n",
       "      <th>0</th>\n",
       "      <td>World</td>\n",
       "      <td>1,392,052,952,994</td>\n",
       "      <td>1,448,393,308,163</td>\n",
       "      <td>1,550,299,476,381</td>\n",
       "      <td>1,671,346,856,960</td>\n",
       "      <td>1,829,998,519,951</td>\n",
       "      <td>1,993,586,721,619</td>\n",
       "      <td>2,163,554,603,423</td>\n",
       "      <td>2,302,168,217,687</td>\n",
       "      <td>2,484,824,098,408</td>\n",
       "      <td>...</td>\n",
       "      <td>75,488,064,175,234</td>\n",
       "      <td>77,607,198,470,256</td>\n",
       "      <td>79,708,812,241,365</td>\n",
       "      <td>75,179,266,270,828</td>\n",
       "      <td>76,465,590,005,079</td>\n",
       "      <td>81,403,977,427,443</td>\n",
       "      <td>86,413,032,779,060</td>\n",
       "      <td>87,652,863,215,993</td>\n",
       "      <td>84,906,814,189,240</td>\n",
       "      <td>96,100,091,004,541</td>\n",
       "    </tr>\n",
       "  </tbody>\n",
       "</table>\n",
       "<p>1 rows × 63 columns</p>\n",
       "</div>"
      ],
      "text/plain": [
       "   Index                 1960                 1961                 1962  \\\n",
       "0  World   1,392,052,952,994    1,448,393,308,163    1,550,299,476,381    \n",
       "\n",
       "                  1963                 1964                 1965  \\\n",
       "0   1,671,346,856,960    1,829,998,519,951    1,993,586,721,619    \n",
       "\n",
       "                  1966                 1967                 1968  ...  \\\n",
       "0   2,163,554,603,423    2,302,168,217,687    2,484,824,098,408   ...   \n",
       "\n",
       "                   2012                  2013                  2014  \\\n",
       "0   75,488,064,175,234    77,607,198,470,256    79,708,812,241,365    \n",
       "\n",
       "                   2015                  2016                  2017  \\\n",
       "0   75,179,266,270,828    76,465,590,005,079    81,403,977,427,443    \n",
       "\n",
       "                   2018                  2019                  2020  \\\n",
       "0   86,413,032,779,060    87,652,863,215,993    84,906,814,189,240    \n",
       "\n",
       "                   2021  \n",
       "0   96,100,091,004,541   \n",
       "\n",
       "[1 rows x 63 columns]"
      ]
     },
     "execution_count": 9,
     "metadata": {},
     "output_type": "execute_result"
    }
   ],
   "source": [
    "# Remove the columns 0, 2, 3, and 4 from the DataFrame\n",
    "world.drop([\"index\", \"Country Code\", \"Indicator Name\", \"Indicator Code\"], axis=1, inplace=True)\n",
    "\n",
    "# Display the modified DataFrame\n",
    "world.head()"
   ]
  },
  {
   "cell_type": "code",
   "execution_count": 10,
   "metadata": {
    "colab": {
     "base_uri": "https://localhost:8080/",
     "height": 206
    },
    "execution": {
     "iopub.execute_input": "2023-01-11T06:59:39.272067Z",
     "iopub.status.busy": "2023-01-11T06:59:39.271529Z",
     "iopub.status.idle": "2023-01-11T06:59:39.288558Z",
     "shell.execute_reply": "2023-01-11T06:59:39.287599Z"
    },
    "id": "Qf7rvCDJ03sJ",
    "outputId": "a0b0e5d3-1f3e-4114-d487-e1f95662d174"
   },
   "outputs": [
    {
     "data": {
      "text/html": [
       "<div>\n",
       "<style scoped>\n",
       "    .dataframe tbody tr th:only-of-type {\n",
       "        vertical-align: middle;\n",
       "    }\n",
       "\n",
       "    .dataframe tbody tr th {\n",
       "        vertical-align: top;\n",
       "    }\n",
       "\n",
       "    .dataframe thead th {\n",
       "        text-align: right;\n",
       "    }\n",
       "</style>\n",
       "<table border=\"1\" class=\"dataframe\">\n",
       "  <thead>\n",
       "    <tr style=\"text-align: right;\">\n",
       "      <th></th>\n",
       "      <th>0</th>\n",
       "    </tr>\n",
       "  </thead>\n",
       "  <tbody>\n",
       "    <tr>\n",
       "      <th>Index</th>\n",
       "      <td>World</td>\n",
       "    </tr>\n",
       "    <tr>\n",
       "      <th>1960</th>\n",
       "      <td>1,392,052,952,994</td>\n",
       "    </tr>\n",
       "    <tr>\n",
       "      <th>1961</th>\n",
       "      <td>1,448,393,308,163</td>\n",
       "    </tr>\n",
       "    <tr>\n",
       "      <th>1962</th>\n",
       "      <td>1,550,299,476,381</td>\n",
       "    </tr>\n",
       "    <tr>\n",
       "      <th>1963</th>\n",
       "      <td>1,671,346,856,960</td>\n",
       "    </tr>\n",
       "  </tbody>\n",
       "</table>\n",
       "</div>"
      ],
      "text/plain": [
       "                         0\n",
       "Index                World\n",
       "1960    1,392,052,952,994 \n",
       "1961    1,448,393,308,163 \n",
       "1962    1,550,299,476,381 \n",
       "1963    1,671,346,856,960 "
      ]
     },
     "execution_count": 10,
     "metadata": {},
     "output_type": "execute_result"
    }
   ],
   "source": [
    "# transpose\n",
    "wt = world.transpose()\n",
    "wt.head()"
   ]
  },
  {
   "cell_type": "code",
   "execution_count": 11,
   "metadata": {
    "execution": {
     "iopub.execute_input": "2023-01-11T06:59:39.294107Z",
     "iopub.status.busy": "2023-01-11T06:59:39.293565Z",
     "iopub.status.idle": "2023-01-11T06:59:39.302243Z",
     "shell.execute_reply": "2023-01-11T06:59:39.300995Z"
    },
    "id": "RZo7ted72t-t"
   },
   "outputs": [],
   "source": [
    "# Eliminar el encabezado del dataframe\n",
    "header = wt.iloc[0]\n",
    "df = wt[1:]\n",
    "# Asignar la primera fila como encabezado\n",
    "df.columns = header"
   ]
  },
  {
   "cell_type": "code",
   "execution_count": 12,
   "metadata": {
    "colab": {
     "base_uri": "https://localhost:8080/",
     "height": 206
    },
    "execution": {
     "iopub.execute_input": "2023-01-11T06:59:39.307744Z",
     "iopub.status.busy": "2023-01-11T06:59:39.307426Z",
     "iopub.status.idle": "2023-01-11T06:59:39.318412Z",
     "shell.execute_reply": "2023-01-11T06:59:39.317161Z"
    },
    "id": "bEeIeOeQ4-2C",
    "outputId": "d3e46113-c92e-492a-b5b6-a150024345cb"
   },
   "outputs": [
    {
     "data": {
      "text/html": [
       "<div>\n",
       "<style scoped>\n",
       "    .dataframe tbody tr th:only-of-type {\n",
       "        vertical-align: middle;\n",
       "    }\n",
       "\n",
       "    .dataframe tbody tr th {\n",
       "        vertical-align: top;\n",
       "    }\n",
       "\n",
       "    .dataframe thead th {\n",
       "        text-align: right;\n",
       "    }\n",
       "</style>\n",
       "<table border=\"1\" class=\"dataframe\">\n",
       "  <thead>\n",
       "    <tr style=\"text-align: right;\">\n",
       "      <th>Index</th>\n",
       "      <th>World</th>\n",
       "    </tr>\n",
       "  </thead>\n",
       "  <tbody>\n",
       "    <tr>\n",
       "      <th>1960</th>\n",
       "      <td>1,392,052,952,994</td>\n",
       "    </tr>\n",
       "    <tr>\n",
       "      <th>1961</th>\n",
       "      <td>1,448,393,308,163</td>\n",
       "    </tr>\n",
       "    <tr>\n",
       "      <th>1962</th>\n",
       "      <td>1,550,299,476,381</td>\n",
       "    </tr>\n",
       "    <tr>\n",
       "      <th>1963</th>\n",
       "      <td>1,671,346,856,960</td>\n",
       "    </tr>\n",
       "    <tr>\n",
       "      <th>1964</th>\n",
       "      <td>1,829,998,519,951</td>\n",
       "    </tr>\n",
       "  </tbody>\n",
       "</table>\n",
       "</div>"
      ],
      "text/plain": [
       "Index                World\n",
       "1960    1,392,052,952,994 \n",
       "1961    1,448,393,308,163 \n",
       "1962    1,550,299,476,381 \n",
       "1963    1,671,346,856,960 \n",
       "1964    1,829,998,519,951 "
      ]
     },
     "execution_count": 12,
     "metadata": {},
     "output_type": "execute_result"
    }
   ],
   "source": [
    "df.head(5)"
   ]
  },
  {
   "cell_type": "code",
   "execution_count": 13,
   "metadata": {
    "execution": {
     "iopub.execute_input": "2023-01-11T06:59:39.325211Z",
     "iopub.status.busy": "2023-01-11T06:59:39.322913Z",
     "iopub.status.idle": "2023-01-11T06:59:39.332084Z",
     "shell.execute_reply": "2023-01-11T06:59:39.330825Z"
    },
    "id": "BCTyi3j05r5q"
   },
   "outputs": [],
   "source": [
    "df.reset_index(inplace=True)"
   ]
  },
  {
   "cell_type": "code",
   "execution_count": 14,
   "metadata": {
    "colab": {
     "base_uri": "https://localhost:8080/",
     "height": 206
    },
    "execution": {
     "iopub.execute_input": "2023-01-11T06:59:39.336906Z",
     "iopub.status.busy": "2023-01-11T06:59:39.336366Z",
     "iopub.status.idle": "2023-01-11T06:59:39.352493Z",
     "shell.execute_reply": "2023-01-11T06:59:39.351444Z"
    },
    "id": "c5HFNLwtrGvV",
    "outputId": "d6c394db-b1e7-4571-e3ab-4f7fda6692c3"
   },
   "outputs": [
    {
     "data": {
      "text/html": [
       "<div>\n",
       "<style scoped>\n",
       "    .dataframe tbody tr th:only-of-type {\n",
       "        vertical-align: middle;\n",
       "    }\n",
       "\n",
       "    .dataframe tbody tr th {\n",
       "        vertical-align: top;\n",
       "    }\n",
       "\n",
       "    .dataframe thead th {\n",
       "        text-align: right;\n",
       "    }\n",
       "</style>\n",
       "<table border=\"1\" class=\"dataframe\">\n",
       "  <thead>\n",
       "    <tr style=\"text-align: right;\">\n",
       "      <th>Index</th>\n",
       "      <th>index</th>\n",
       "      <th>World</th>\n",
       "    </tr>\n",
       "  </thead>\n",
       "  <tbody>\n",
       "    <tr>\n",
       "      <th>0</th>\n",
       "      <td>1960</td>\n",
       "      <td>1,392,052,952,994</td>\n",
       "    </tr>\n",
       "    <tr>\n",
       "      <th>1</th>\n",
       "      <td>1961</td>\n",
       "      <td>1,448,393,308,163</td>\n",
       "    </tr>\n",
       "    <tr>\n",
       "      <th>2</th>\n",
       "      <td>1962</td>\n",
       "      <td>1,550,299,476,381</td>\n",
       "    </tr>\n",
       "    <tr>\n",
       "      <th>3</th>\n",
       "      <td>1963</td>\n",
       "      <td>1,671,346,856,960</td>\n",
       "    </tr>\n",
       "    <tr>\n",
       "      <th>4</th>\n",
       "      <td>1964</td>\n",
       "      <td>1,829,998,519,951</td>\n",
       "    </tr>\n",
       "  </tbody>\n",
       "</table>\n",
       "</div>"
      ],
      "text/plain": [
       "Index index                World\n",
       "0      1960   1,392,052,952,994 \n",
       "1      1961   1,448,393,308,163 \n",
       "2      1962   1,550,299,476,381 \n",
       "3      1963   1,671,346,856,960 \n",
       "4      1964   1,829,998,519,951 "
      ]
     },
     "execution_count": 14,
     "metadata": {},
     "output_type": "execute_result"
    }
   ],
   "source": [
    "df.head()"
   ]
  },
  {
   "cell_type": "code",
   "execution_count": 15,
   "metadata": {
    "colab": {
     "base_uri": "https://localhost:8080/"
    },
    "execution": {
     "iopub.execute_input": "2023-01-11T06:59:39.357381Z",
     "iopub.status.busy": "2023-01-11T06:59:39.357064Z",
     "iopub.status.idle": "2023-01-11T06:59:39.368115Z",
     "shell.execute_reply": "2023-01-11T06:59:39.366831Z"
    },
    "id": "c9-EljjMrPZW",
    "outputId": "555ac6e6-637a-43f8-8ed6-a6615ee3eb1a"
   },
   "outputs": [
    {
     "data": {
      "text/plain": [
       "RangeIndex(start=0, stop=62, step=1)"
      ]
     },
     "execution_count": 15,
     "metadata": {},
     "output_type": "execute_result"
    }
   ],
   "source": [
    "df.index"
   ]
  },
  {
   "cell_type": "code",
   "execution_count": 16,
   "metadata": {
    "execution": {
     "iopub.execute_input": "2023-01-11T06:59:39.373825Z",
     "iopub.status.busy": "2023-01-11T06:59:39.372845Z",
     "iopub.status.idle": "2023-01-11T06:59:39.381807Z",
     "shell.execute_reply": "2023-01-11T06:59:39.380289Z"
    },
    "id": "IICjh-8JsOgi"
   },
   "outputs": [],
   "source": [
    "df = df.rename(columns={\"index\": \"Year\", \"World\": \"GDP (current US$)\"})"
   ]
  },
  {
   "cell_type": "code",
   "execution_count": 17,
   "metadata": {
    "colab": {
     "base_uri": "https://localhost:8080/",
     "height": 206
    },
    "execution": {
     "iopub.execute_input": "2023-01-11T06:59:39.387117Z",
     "iopub.status.busy": "2023-01-11T06:59:39.386250Z",
     "iopub.status.idle": "2023-01-11T06:59:39.403200Z",
     "shell.execute_reply": "2023-01-11T06:59:39.401973Z"
    },
    "id": "SbSnFWqfsZzP",
    "outputId": "b02f411d-0385-4980-c91c-d224c9a5b3c4"
   },
   "outputs": [
    {
     "data": {
      "text/html": [
       "<div>\n",
       "<style scoped>\n",
       "    .dataframe tbody tr th:only-of-type {\n",
       "        vertical-align: middle;\n",
       "    }\n",
       "\n",
       "    .dataframe tbody tr th {\n",
       "        vertical-align: top;\n",
       "    }\n",
       "\n",
       "    .dataframe thead th {\n",
       "        text-align: right;\n",
       "    }\n",
       "</style>\n",
       "<table border=\"1\" class=\"dataframe\">\n",
       "  <thead>\n",
       "    <tr style=\"text-align: right;\">\n",
       "      <th>Index</th>\n",
       "      <th>Year</th>\n",
       "      <th>GDP (current US$)</th>\n",
       "    </tr>\n",
       "  </thead>\n",
       "  <tbody>\n",
       "    <tr>\n",
       "      <th>0</th>\n",
       "      <td>1960</td>\n",
       "      <td>1,392,052,952,994</td>\n",
       "    </tr>\n",
       "    <tr>\n",
       "      <th>1</th>\n",
       "      <td>1961</td>\n",
       "      <td>1,448,393,308,163</td>\n",
       "    </tr>\n",
       "    <tr>\n",
       "      <th>2</th>\n",
       "      <td>1962</td>\n",
       "      <td>1,550,299,476,381</td>\n",
       "    </tr>\n",
       "    <tr>\n",
       "      <th>3</th>\n",
       "      <td>1963</td>\n",
       "      <td>1,671,346,856,960</td>\n",
       "    </tr>\n",
       "    <tr>\n",
       "      <th>4</th>\n",
       "      <td>1964</td>\n",
       "      <td>1,829,998,519,951</td>\n",
       "    </tr>\n",
       "  </tbody>\n",
       "</table>\n",
       "</div>"
      ],
      "text/plain": [
       "Index  Year    GDP (current US$)\n",
       "0      1960   1,392,052,952,994 \n",
       "1      1961   1,448,393,308,163 \n",
       "2      1962   1,550,299,476,381 \n",
       "3      1963   1,671,346,856,960 \n",
       "4      1964   1,829,998,519,951 "
      ]
     },
     "execution_count": 17,
     "metadata": {},
     "output_type": "execute_result"
    }
   ],
   "source": [
    "df.head(5)"
   ]
  },
  {
   "cell_type": "code",
   "execution_count": 18,
   "metadata": {
    "colab": {
     "base_uri": "https://localhost:8080/"
    },
    "execution": {
     "iopub.execute_input": "2023-01-11T06:59:39.408404Z",
     "iopub.status.busy": "2023-01-11T06:59:39.407872Z",
     "iopub.status.idle": "2023-01-11T06:59:39.425733Z",
     "shell.execute_reply": "2023-01-11T06:59:39.424654Z"
    },
    "id": "j3YZ7jhm7Y3J",
    "outputId": "444cc37b-21dc-4280-bdf3-0963c2810143"
   },
   "outputs": [
    {
     "name": "stdout",
     "output_type": "stream",
     "text": [
      "<class 'pandas.core.frame.DataFrame'>\n",
      "RangeIndex: 62 entries, 0 to 61\n",
      "Data columns (total 2 columns):\n",
      " #   Column             Non-Null Count  Dtype \n",
      "---  ------             --------------  ----- \n",
      " 0   Year               62 non-null     object\n",
      " 1   GDP (current US$)  62 non-null     object\n",
      "dtypes: object(2)\n",
      "memory usage: 1.1+ KB\n"
     ]
    }
   ],
   "source": [
    "#revisamos que los datos esten listos para correr la regresion\n",
    "df.info()"
   ]
  },
  {
   "cell_type": "code",
   "execution_count": 19,
   "metadata": {
    "execution": {
     "iopub.execute_input": "2023-01-11T06:59:39.430893Z",
     "iopub.status.busy": "2023-01-11T06:59:39.430355Z",
     "iopub.status.idle": "2023-01-11T06:59:39.444575Z",
     "shell.execute_reply": "2023-01-11T06:59:39.443375Z"
    },
    "id": "XmOyl4Xh9hof"
   },
   "outputs": [],
   "source": [
    "#reemplazamos espacios y comas\n",
    "df['Year'] = df['Year'].str.replace(',', '')\n",
    "df['GDP (current US$)'] = df['GDP (current US$)'].str.replace(',', '')\n",
    "df['Year'] = df['Year'].str.replace(' ', '')\n",
    "df['GDP (current US$)'] = df['GDP (current US$)'].str.replace(' ', '')"
   ]
  },
  {
   "cell_type": "code",
   "execution_count": 20,
   "metadata": {
    "colab": {
     "base_uri": "https://localhost:8080/",
     "height": 423
    },
    "execution": {
     "iopub.execute_input": "2023-01-11T06:59:39.450345Z",
     "iopub.status.busy": "2023-01-11T06:59:39.449453Z",
     "iopub.status.idle": "2023-01-11T06:59:39.467372Z",
     "shell.execute_reply": "2023-01-11T06:59:39.466182Z"
    },
    "id": "54Ox2lyONWS9",
    "outputId": "c85f5820-70c6-4657-ed9d-d29c0588aadb"
   },
   "outputs": [
    {
     "data": {
      "text/html": [
       "<div>\n",
       "<style scoped>\n",
       "    .dataframe tbody tr th:only-of-type {\n",
       "        vertical-align: middle;\n",
       "    }\n",
       "\n",
       "    .dataframe tbody tr th {\n",
       "        vertical-align: top;\n",
       "    }\n",
       "\n",
       "    .dataframe thead th {\n",
       "        text-align: right;\n",
       "    }\n",
       "</style>\n",
       "<table border=\"1\" class=\"dataframe\">\n",
       "  <thead>\n",
       "    <tr style=\"text-align: right;\">\n",
       "      <th>Index</th>\n",
       "      <th>Year</th>\n",
       "      <th>GDP (current US$)</th>\n",
       "    </tr>\n",
       "  </thead>\n",
       "  <tbody>\n",
       "    <tr>\n",
       "      <th>0</th>\n",
       "      <td>1960</td>\n",
       "      <td>1392052952994</td>\n",
       "    </tr>\n",
       "    <tr>\n",
       "      <th>1</th>\n",
       "      <td>1961</td>\n",
       "      <td>1448393308163</td>\n",
       "    </tr>\n",
       "    <tr>\n",
       "      <th>2</th>\n",
       "      <td>1962</td>\n",
       "      <td>1550299476381</td>\n",
       "    </tr>\n",
       "    <tr>\n",
       "      <th>3</th>\n",
       "      <td>1963</td>\n",
       "      <td>1671346856960</td>\n",
       "    </tr>\n",
       "    <tr>\n",
       "      <th>4</th>\n",
       "      <td>1964</td>\n",
       "      <td>1829998519951</td>\n",
       "    </tr>\n",
       "    <tr>\n",
       "      <th>...</th>\n",
       "      <td>...</td>\n",
       "      <td>...</td>\n",
       "    </tr>\n",
       "    <tr>\n",
       "      <th>57</th>\n",
       "      <td>2017</td>\n",
       "      <td>81403977427443</td>\n",
       "    </tr>\n",
       "    <tr>\n",
       "      <th>58</th>\n",
       "      <td>2018</td>\n",
       "      <td>86413032779060</td>\n",
       "    </tr>\n",
       "    <tr>\n",
       "      <th>59</th>\n",
       "      <td>2019</td>\n",
       "      <td>87652863215993</td>\n",
       "    </tr>\n",
       "    <tr>\n",
       "      <th>60</th>\n",
       "      <td>2020</td>\n",
       "      <td>84906814189240</td>\n",
       "    </tr>\n",
       "    <tr>\n",
       "      <th>61</th>\n",
       "      <td>2021</td>\n",
       "      <td>96100091004541</td>\n",
       "    </tr>\n",
       "  </tbody>\n",
       "</table>\n",
       "<p>62 rows × 2 columns</p>\n",
       "</div>"
      ],
      "text/plain": [
       "Index  Year GDP (current US$)\n",
       "0      1960     1392052952994\n",
       "1      1961     1448393308163\n",
       "2      1962     1550299476381\n",
       "3      1963     1671346856960\n",
       "4      1964     1829998519951\n",
       "..      ...               ...\n",
       "57     2017    81403977427443\n",
       "58     2018    86413032779060\n",
       "59     2019    87652863215993\n",
       "60     2020    84906814189240\n",
       "61     2021    96100091004541\n",
       "\n",
       "[62 rows x 2 columns]"
      ]
     },
     "execution_count": 20,
     "metadata": {},
     "output_type": "execute_result"
    }
   ],
   "source": [
    "df"
   ]
  },
  {
   "cell_type": "code",
   "execution_count": 21,
   "metadata": {
    "execution": {
     "iopub.execute_input": "2023-01-11T06:59:39.472767Z",
     "iopub.status.busy": "2023-01-11T06:59:39.472205Z",
     "iopub.status.idle": "2023-01-11T06:59:39.526808Z",
     "shell.execute_reply": "2023-01-11T06:59:39.525394Z"
    },
    "id": "bLwsCDPq8ebI"
   },
   "outputs": [],
   "source": [
    "#tenemos datos tipo string y los vamos a pasar a valores enteros\n",
    "\n",
    "# selecciona las columnas \"Year\" y \"GDP\" del dataframe original\n",
    "df_temp = df[[\"Year\", \"GDP (current US$)\"]]\n",
    "\n",
    "# convierte las columnas seleccionadas a tipo \"int64\"\n",
    "df_temp = df_temp.apply(pd.to_numeric, downcast='integer')\n",
    "\n",
    "# sobreescribe las columnas originales con los datos convertidos\n",
    "df[[\"Year\", \"GDP (current US$)\"]] = df_temp"
   ]
  },
  {
   "cell_type": "code",
   "execution_count": 22,
   "metadata": {
    "colab": {
     "base_uri": "https://localhost:8080/"
    },
    "execution": {
     "iopub.execute_input": "2023-01-11T06:59:39.532776Z",
     "iopub.status.busy": "2023-01-11T06:59:39.532176Z",
     "iopub.status.idle": "2023-01-11T06:59:39.553247Z",
     "shell.execute_reply": "2023-01-11T06:59:39.551970Z"
    },
    "id": "CGsX4DSZ_KOx",
    "outputId": "fe3890c5-0200-4df7-a0b5-4a17a887ac44"
   },
   "outputs": [
    {
     "name": "stdout",
     "output_type": "stream",
     "text": [
      "<class 'pandas.core.frame.DataFrame'>\n",
      "RangeIndex: 62 entries, 0 to 61\n",
      "Data columns (total 2 columns):\n",
      " #   Column             Non-Null Count  Dtype\n",
      "---  ------             --------------  -----\n",
      " 0   Year               62 non-null     int16\n",
      " 1   GDP (current US$)  62 non-null     int64\n",
      "dtypes: int16(1), int64(1)\n",
      "memory usage: 748.0 bytes\n"
     ]
    }
   ],
   "source": [
    "df.info()"
   ]
  },
  {
   "cell_type": "code",
   "execution_count": 23,
   "metadata": {
    "colab": {
     "base_uri": "https://localhost:8080/",
     "height": 295
    },
    "execution": {
     "iopub.execute_input": "2023-01-11T06:59:39.558248Z",
     "iopub.status.busy": "2023-01-11T06:59:39.557716Z",
     "iopub.status.idle": "2023-01-11T06:59:39.957176Z",
     "shell.execute_reply": "2023-01-11T06:59:39.956106Z"
    },
    "id": "c6J3O2u2MjJW",
    "outputId": "59a90553-f321-4777-e87f-d3cec43770b2"
   },
   "outputs": [
    {
     "data": {
      "image/png": "[encoded data removed]",
      "text/plain": [
       "<Figure size 640x480 with 1 Axes>"
      ]
     },
     "metadata": {},
     "output_type": "display_data"
    }
   ],
   "source": [
    "plt.plot(df[\"Year\"], df[\"GDP (current US$)\"])\n",
    "plt.xlabel(\"Year\")\n",
    "plt.ylabel(\"GDP (current US$)\")\n",
    "plt.title(\"GDP 1960-2021\")\n",
    "plt.show()"
   ]
  },
  {
   "cell_type": "code",
   "execution_count": 24,
   "metadata": {
    "colab": {
     "base_uri": "https://localhost:8080/",
     "height": 295
    },
    "execution": {
     "iopub.execute_input": "2023-01-11T06:59:39.962399Z",
     "iopub.status.busy": "2023-01-11T06:59:39.961855Z",
     "iopub.status.idle": "2023-01-11T06:59:40.188002Z",
     "shell.execute_reply": "2023-01-11T06:59:40.186884Z"
    },
    "id": "Y9rzy7-RRQ3J",
    "outputId": "e3f48a45-12e9-48aa-df13-79a2252ff4e7"
   },
   "outputs": [
    {
     "data": {
      "image/png": "[encoded data removed]",
      "text/plain": [
       "<Figure size 640x480 with 1 Axes>"
      ]
     },
     "metadata": {},
     "output_type": "display_data"
    }
   ],
   "source": [
    "plt.scatter(df[\"Year\"], df[\"GDP (current US$)\"])\n",
    "plt.xlabel(\"Year\")\n",
    "plt.ylabel(\"GDP (current US$)\")\n",
    "plt.title(\"GDP 1960-2021\")\n",
    "plt.show()"
   ]
  },
  {
   "cell_type": "markdown",
   "metadata": {
    "id": "6wWwLPkd7AVd"
   },
   "source": [
    "#Here starts the lineal regression"
   ]
  },
  {
   "cell_type": "code",
   "execution_count": 25,
   "metadata": {
    "execution": {
     "iopub.execute_input": "2023-01-11T06:59:40.193892Z",
     "iopub.status.busy": "2023-01-11T06:59:40.193356Z",
     "iopub.status.idle": "2023-01-11T06:59:40.204055Z",
     "shell.execute_reply": "2023-01-11T06:59:40.202957Z"
    },
    "id": "1O18sy4o0JgN"
   },
   "outputs": [],
   "source": [
    "#creacion de variables predictoras y de respuesta, predictores con los valores de la columna año, y de respuesta con los valores de la columna gdp\n",
    "predictors = df[[\"Year\"]]\n",
    "response = df[[\"GDP (current US$)\"]]"
   ]
  },
  {
   "cell_type": "code",
   "execution_count": 26,
   "metadata": {
    "execution": {
     "iopub.execute_input": "2023-01-11T06:59:40.209877Z",
     "iopub.status.busy": "2023-01-11T06:59:40.209182Z",
     "iopub.status.idle": "2023-01-11T06:59:40.219964Z",
     "shell.execute_reply": "2023-01-11T06:59:40.218543Z"
    },
    "id": "KW4Ce48l3GJx"
   },
   "outputs": [],
   "source": [
    "# Divide los datos en conjuntos de entrenamiento y evaluación\n",
    "X_train, X_test, y_train, y_test = train_test_split(predictors, response, test_size=0.2)"
   ]
  },
  {
   "cell_type": "code",
   "execution_count": 27,
   "metadata": {
    "colab": {
     "base_uri": "https://localhost:8080/"
    },
    "execution": {
     "iopub.execute_input": "2023-01-11T06:59:40.226003Z",
     "iopub.status.busy": "2023-01-11T06:59:40.225052Z",
     "iopub.status.idle": "2023-01-11T06:59:40.260001Z",
     "shell.execute_reply": "2023-01-11T06:59:40.258908Z"
    },
    "id": "eWN01B6r4AU6",
    "outputId": "be8e7937-834d-4728-9529-6f6e2e58a68b"
   },
   "outputs": [
    {
     "data": {
      "text/plain": [
       "LinearRegression()"
      ]
     },
     "execution_count": 27,
     "metadata": {},
     "output_type": "execute_result"
    }
   ],
   "source": [
    "# Create a linear regression model\n",
    "model = LinearRegression()\n",
    "\n",
    "# Fit the model to the training data\n",
    "model.fit(X_train, y_train)"
   ]
  },
  {
   "cell_type": "code",
   "execution_count": 28,
   "metadata": {
    "execution": {
     "iopub.execute_input": "2023-01-11T06:59:40.265501Z",
     "iopub.status.busy": "2023-01-11T06:59:40.264968Z",
     "iopub.status.idle": "2023-01-11T06:59:40.274030Z",
     "shell.execute_reply": "2023-01-11T06:59:40.272974Z"
    },
    "id": "sGFT8tEW4BDg"
   },
   "outputs": [],
   "source": [
    "# Make predictions on the test data\n",
    "predictions = model.predict(X_test)"
   ]
  },
  {
   "cell_type": "code",
   "execution_count": 29,
   "metadata": {
    "colab": {
     "base_uri": "https://localhost:8080/"
    },
    "execution": {
     "iopub.execute_input": "2023-01-11T06:59:40.282811Z",
     "iopub.status.busy": "2023-01-11T06:59:40.278993Z",
     "iopub.status.idle": "2023-01-11T06:59:40.290685Z",
     "shell.execute_reply": "2023-01-11T06:59:40.289002Z"
    },
    "id": "5K5qeRbuMaWe",
    "outputId": "e7e4e4c7-9cb6-47b9-bf37-fa4b930c8174"
   },
   "outputs": [
    {
     "name": "stdout",
     "output_type": "stream",
     "text": [
      "<class 'numpy.ndarray'>\n"
     ]
    }
   ],
   "source": [
    "print(type(predictions))"
   ]
  },
  {
   "cell_type": "markdown",
   "metadata": {
    "id": "wmvxDHc4ARy3"
   },
   "source": [
    "# Visualizaciones derivadas del modelo"
   ]
  },
  {
   "cell_type": "code",
   "execution_count": 30,
   "metadata": {
    "colab": {
     "base_uri": "https://localhost:8080/",
     "height": 295
    },
    "execution": {
     "iopub.execute_input": "2023-01-11T06:59:40.300952Z",
     "iopub.status.busy": "2023-01-11T06:59:40.299386Z",
     "iopub.status.idle": "2023-01-11T06:59:40.589445Z",
     "shell.execute_reply": "2023-01-11T06:59:40.588336Z"
    },
    "id": "JakwIioIAWhZ",
    "outputId": "7bfbac9a-f54d-494e-ebbb-87f5be78c4e5"
   },
   "outputs": [
    {
     "data": {
      "image/png": "[encoded data removed]",
      "text/plain": [
       "<Figure size 640x480 with 1 Axes>"
      ]
     },
     "metadata": {},
     "output_type": "display_data"
    }
   ],
   "source": [
    "# Grafica los puntos de entrenamiento\n",
    "plt.scatter(X_train, y_train, label=\"Entrenamiento\", color=\"red\")\n",
    "\n",
    "#Grafica los puntos de las predicciones\n",
    "plt.scatter(X_test, predictions, label=\"Predicciones\", color='blue')\n",
    "\n",
    "# Establece el título y las etiquetas de los ejes\n",
    "plt.title(\"Regresión lineal\")\n",
    "plt.xlabel(\"Años\")\n",
    "plt.ylabel(\"PIB\")\n",
    "\n",
    "# Muestra la leyenda\n",
    "plt.legend()\n",
    "\n",
    "# Muestra la gráfica\n",
    "plt.show()"
   ]
  },
  {
   "cell_type": "markdown",
   "metadata": {
    "id": "7nI-H818h5Fw"
   },
   "source": [
    "# Evaluacion del modelo"
   ]
  },
  {
   "cell_type": "code",
   "execution_count": 31,
   "metadata": {
    "colab": {
     "base_uri": "https://localhost:8080/"
    },
    "execution": {
     "iopub.execute_input": "2023-01-11T06:59:40.596624Z",
     "iopub.status.busy": "2023-01-11T06:59:40.594067Z",
     "iopub.status.idle": "2023-01-11T06:59:40.609711Z",
     "shell.execute_reply": "2023-01-11T06:59:40.608205Z"
    },
    "id": "CVULiArrhZfT",
    "outputId": "5dc75243-1b51-4545-ddeb-b53196298bfe"
   },
   "outputs": [
    {
     "name": "stdout",
     "output_type": "stream",
     "text": [
      "Coeficiente de determinación: 0.910096142267466\n"
     ]
    }
   ],
   "source": [
    "#coeficiente de determinación\n",
    "r2 = model.score(X_test, y_test)\n",
    "print(f\"Coeficiente de determinación: {r2}\")"
   ]
  },
  {
   "cell_type": "code",
   "execution_count": 32,
   "metadata": {
    "colab": {
     "base_uri": "https://localhost:8080/"
    },
    "execution": {
     "iopub.execute_input": "2023-01-11T06:59:40.614621Z",
     "iopub.status.busy": "2023-01-11T06:59:40.614082Z",
     "iopub.status.idle": "2023-01-11T06:59:40.622781Z",
     "shell.execute_reply": "2023-01-11T06:59:40.621482Z"
    },
    "id": "-MqQUXom9-dQ",
    "outputId": "6d9d6db7-2483-4667-aabf-2f924abab693"
   },
   "outputs": [
    {
     "name": "stdout",
     "output_type": "stream",
     "text": [
      "El error absoluto medio es: 7942286416550.077\n"
     ]
    }
   ],
   "source": [
    "#error absoluto medio\n",
    "mae = mean_absolute_error(y_test, predictions)\n",
    "print(f'El error absoluto medio es: {mae}')"
   ]
  },
  {
   "cell_type": "code",
   "execution_count": 33,
   "metadata": {
    "colab": {
     "base_uri": "https://localhost:8080/"
    },
    "execution": {
     "iopub.execute_input": "2023-01-11T06:59:40.628256Z",
     "iopub.status.busy": "2023-01-11T06:59:40.627927Z",
     "iopub.status.idle": "2023-01-11T06:59:40.638827Z",
     "shell.execute_reply": "2023-01-11T06:59:40.637540Z"
    },
    "id": "42aDtlcyh-RM",
    "outputId": "05de4335-f8d6-48f0-d4d6-a05156403ffa"
   },
   "outputs": [
    {
     "name": "stdout",
     "output_type": "stream",
     "text": [
      "Error cuadrático medio: 8.14933896657348e+25\n"
     ]
    }
   ],
   "source": [
    "#error cuadrático medio\n",
    "mse = mean_squared_error(y_test, predictions)\n",
    "print(f\"Error cuadrático medio: {mse}\")"
   ]
  },
  {
   "cell_type": "code",
   "execution_count": 34,
   "metadata": {
    "colab": {
     "base_uri": "https://localhost:8080/"
    },
    "execution": {
     "iopub.execute_input": "2023-01-11T06:59:40.644693Z",
     "iopub.status.busy": "2023-01-11T06:59:40.644147Z",
     "iopub.status.idle": "2023-01-11T06:59:40.651253Z",
     "shell.execute_reply": "2023-01-11T06:59:40.649945Z"
    },
    "id": "XzBbi04KjQY-",
    "outputId": "d63417c8-ab8b-486e-e679-be2b54ee737b"
   },
   "outputs": [
    {
     "name": "stdout",
     "output_type": "stream",
     "text": [
      "La raiz del error cuadratico medio es: 9027368922655.969\n"
     ]
    }
   ],
   "source": [
    "#raiz error cuadratico medio\n",
    "rmse = np.sqrt(mse)\n",
    "print(f'La raiz del error cuadratico medio es: {rmse}')"
   ]
  }
 ],
 "metadata": {
  "colab": {
   "authorship_tag": "ABX9TyO+y5y4desbs0w8K124gThj",
   "include_colab_link": true,
   "provenance": []
  },
  "kernelspec": {
   "display_name": "Python 3",
   "name": "python3"
  },
  "language_info": {
   "codemirror_mode": {
    "name": "ipython",
    "version": 3
   },
   "file_extension": ".py",
   "mimetype": "text/x-python",
   "name": "python",
   "nbconvert_exporter": "python",
   "pygments_lexer": "ipython3",
   "version": "3.9.13"
  }
 },
 "nbformat": 4,
 "nbformat_minor": 0
}
