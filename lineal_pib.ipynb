{
  "nbformat": 4,
  "nbformat_minor": 0,
  "metadata": {
    "colab": {
      "provenance": [],
      "authorship_tag": "ABX9TyOAoxmSnvaoFFeDRtjpxb2Q",
      "include_colab_link": true
    },
    "kernelspec": {
      "name": "python3",
      "display_name": "Python 3"
    },
    "language_info": {
      "name": "python"
    }
  },
  "cells": [
    {
      "cell_type": "markdown",
      "metadata": {
        "id": "view-in-github",
        "colab_type": "text"
      },
      "source": [
        "<a href=\"https://colab.research.google.com/github/fabherhe/regressions/blob/main/lineal_pib.ipynb\" target=\"_parent\"><img src=\"https://colab.research.google.com/assets/colab-badge.svg\" alt=\"Open In Colab\"/></a>"
      ]
    },
    {
      "cell_type": "code",
      "execution_count": null,
      "metadata": {
        "id": "MP7FmsmSNx-N"
      },
      "outputs": [],
      "source": [
        "#no se olvide de cargar el archivo al botebook\n",
        "import pandas as pd\n",
        "import matplotlib.pyplot as plt\n",
        "from sklearn.linear_model import LinearRegression\n",
        "from sklearn.model_selection import train_test_split\n",
        "from sklearn.metrics import mean_squared_error\n",
        "\n",
        "gdp = pd.read_csv(\"gdp_data.csv\", header=2)"
      ]
    },
    {
      "cell_type": "code",
      "source": [
        "gdp.info()"
      ],
      "metadata": {
        "id": "gNBmh1lLQEey"
      },
      "execution_count": null,
      "outputs": []
    },
    {
      "cell_type": "code",
      "source": [
        "# Select rows where the \"Country Name\" column contains \"World\"\n",
        "world = gdp.loc[gdp[\"Country Name\"].str.contains(\"World\")]"
      ],
      "metadata": {
        "id": "yZdbY7rOQF76"
      },
      "execution_count": null,
      "outputs": []
    },
    {
      "cell_type": "code",
      "source": [
        "#print the variable to see the content\n",
        "world.head()"
      ],
      "metadata": {
        "id": "y52f3DqaXp28"
      },
      "execution_count": null,
      "outputs": []
    },
    {
      "cell_type": "code",
      "source": [
        "#borramos primera fila mundo arabe, don't care\n",
        "world = world.drop(world.index[0])"
      ],
      "metadata": {
        "id": "pNe9m438ZD5a"
      },
      "execution_count": null,
      "outputs": []
    },
    {
      "cell_type": "code",
      "source": [
        "world.head()"
      ],
      "metadata": {
        "id": "n3sswe4eaTxJ"
      },
      "execution_count": null,
      "outputs": []
    },
    {
      "cell_type": "code",
      "source": [
        "# Display the rows of the DataFrame with their indices\n",
        "world.reset_index(inplace=True)\n",
        "world.head()"
      ],
      "metadata": {
        "id": "duaClrL_uunH"
      },
      "execution_count": null,
      "outputs": []
    },
    {
      "cell_type": "code",
      "source": [
        "world = world.rename(columns={\"Country Name\": \"Index\"})"
      ],
      "metadata": {
        "id": "NykkkcKkzDEE"
      },
      "execution_count": null,
      "outputs": []
    },
    {
      "cell_type": "code",
      "source": [
        "# Remove the columns 0, 2, 3, and 4 from the DataFrame\n",
        "world.drop([\"index\", \"Country Code\", \"Indicator Name\", \"Indicator Code\"], axis=1, inplace=True)\n",
        "\n",
        "# Display the modified DataFrame\n",
        "world.head()"
      ],
      "metadata": {
        "id": "CFXHRmRB0SkE"
      },
      "execution_count": null,
      "outputs": []
    },
    {
      "cell_type": "code",
      "source": [
        "# transpose\n",
        "wt = world.transpose()\n",
        "wt.head()"
      ],
      "metadata": {
        "id": "Qf7rvCDJ03sJ"
      },
      "execution_count": null,
      "outputs": []
    },
    {
      "cell_type": "code",
      "source": [
        "# Eliminar el encabezado del dataframe\n",
        "header = wt.iloc[0]\n",
        "df = wt[1:]\n",
        "# Asignar la primera fila como encabezado\n",
        "df.columns = header"
      ],
      "metadata": {
        "id": "RZo7ted72t-t"
      },
      "execution_count": null,
      "outputs": []
    },
    {
      "cell_type": "code",
      "source": [
        "df.head(20)"
      ],
      "metadata": {
        "id": "bEeIeOeQ4-2C"
      },
      "execution_count": null,
      "outputs": []
    },
    {
      "cell_type": "code",
      "source": [
        "df.reset_index(inplace=True)"
      ],
      "metadata": {
        "id": "BCTyi3j05r5q"
      },
      "execution_count": null,
      "outputs": []
    },
    {
      "cell_type": "code",
      "source": [
        "df.head()"
      ],
      "metadata": {
        "id": "c5HFNLwtrGvV"
      },
      "execution_count": null,
      "outputs": []
    },
    {
      "cell_type": "code",
      "source": [
        "df.index"
      ],
      "metadata": {
        "id": "c9-EljjMrPZW"
      },
      "execution_count": null,
      "outputs": []
    },
    {
      "cell_type": "code",
      "source": [
        "df = df.rename(columns={\"index\": \"Year\", \"World\": \"GDP (current US$)\"})"
      ],
      "metadata": {
        "id": "IICjh-8JsOgi"
      },
      "execution_count": null,
      "outputs": []
    },
    {
      "cell_type": "code",
      "source": [
        "df.head(60)"
      ],
      "metadata": {
        "id": "SbSnFWqfsZzP"
      },
      "execution_count": null,
      "outputs": []
    },
    {
      "cell_type": "code",
      "source": [
        "#revisamos que los datos esten listos para correr la regresion\n",
        "df.info()"
      ],
      "metadata": {
        "id": "j3YZ7jhm7Y3J"
      },
      "execution_count": null,
      "outputs": []
    },
    {
      "cell_type": "code",
      "source": [
        "#reemplazamos espacios y comas\n",
        "df['Year'] = df['Year'].str.replace(',', '')\n",
        "df['GDP (current US$)'] = df['GDP (current US$)'].str.replace(',', '')\n",
        "df['Year'] = df['Year'].str.replace(' ', '')\n",
        "df['GDP (current US$)'] = df['GDP (current US$)'].str.replace(' ', '')"
      ],
      "metadata": {
        "id": "XmOyl4Xh9hof"
      },
      "execution_count": null,
      "outputs": []
    },
    {
      "cell_type": "code",
      "source": [
        "df"
      ],
      "metadata": {
        "id": "54Ox2lyONWS9"
      },
      "execution_count": null,
      "outputs": []
    },
    {
      "cell_type": "code",
      "source": [
        "#tenemos datos tipo string y los vamos a pasar a valores enteros\n",
        "\n",
        "# selecciona las columnas \"Year\" y \"GDP\" del dataframe original\n",
        "df_temp = df[[\"Year\", \"GDP (current US$)\"]]\n",
        "\n",
        "# convierte las columnas seleccionadas a tipo \"int64\"\n",
        "df_temp = df_temp.apply(pd.to_numeric, downcast='integer')\n",
        "\n",
        "# sobreescribe las columnas originales con los datos convertidos\n",
        "df[[\"Year\", \"GDP (current US$)\"]] = df_temp"
      ],
      "metadata": {
        "id": "bLwsCDPq8ebI"
      },
      "execution_count": null,
      "outputs": []
    },
    {
      "cell_type": "code",
      "source": [
        "df.info()"
      ],
      "metadata": {
        "id": "CGsX4DSZ_KOx"
      },
      "execution_count": null,
      "outputs": []
    },
    {
      "cell_type": "code",
      "source": [
        "plt.plot(df[\"Year\"], df[\"GDP (current US$)\"])\n",
        "plt.xlabel(\"Year\")\n",
        "plt.ylabel(\"GDP (current US$)\")\n",
        "plt.title(\"GDP 1960-2021\")\n",
        "plt.show()"
      ],
      "metadata": {
        "id": "c6J3O2u2MjJW"
      },
      "execution_count": null,
      "outputs": []
    },
    {
      "cell_type": "code",
      "source": [
        "plt.scatter(df[\"Year\"], df[\"GDP (current US$)\"])\n",
        "plt.xlabel(\"Year\")\n",
        "plt.ylabel(\"GDP (current US$)\")\n",
        "plt.title(\"GDP 1960-2021\")\n",
        "plt.show()"
      ],
      "metadata": {
        "id": "Y9rzy7-RRQ3J"
      },
      "execution_count": null,
      "outputs": []
    },
    {
      "cell_type": "markdown",
      "source": [
        "#Here starts the lineal regression"
      ],
      "metadata": {
        "id": "6wWwLPkd7AVd"
      }
    },
    {
      "cell_type": "code",
      "source": [
        "#creacion de variables predictoras y de respuesta, predictores con los valores de la columna año, y de respuesta con los valores de la columna gdp\n",
        "predictors = df[[\"Year\"]]\n",
        "response = df[[\"GDP (current US$)\"]]"
      ],
      "metadata": {
        "id": "1O18sy4o0JgN"
      },
      "execution_count": null,
      "outputs": []
    },
    {
      "cell_type": "code",
      "source": [
        "# Divide los datos en conjuntos de entrenamiento y evaluación\n",
        "X_train, X_test, y_train, y_test = train_test_split(predictors, response, test_size=0.2)"
      ],
      "metadata": {
        "id": "KW4Ce48l3GJx"
      },
      "execution_count": null,
      "outputs": []
    },
    {
      "cell_type": "code",
      "source": [
        "# Create a linear regression model\n",
        "model = LinearRegression()\n",
        "\n",
        "# Fit the model to the training data\n",
        "model.fit(X_train, y_train)"
      ],
      "metadata": {
        "id": "eWN01B6r4AU6"
      },
      "execution_count": null,
      "outputs": []
    },
    {
      "cell_type": "code",
      "source": [
        "# Make predictions on the test data\n",
        "predictions = model.predict(X_test)"
      ],
      "metadata": {
        "id": "sGFT8tEW4BDg"
      },
      "execution_count": null,
      "outputs": []
    },
    {
      "cell_type": "code",
      "source": [
        "predictions"
      ],
      "metadata": {
        "id": "Re355lSm0tOr"
      },
      "execution_count": null,
      "outputs": []
    },
    {
      "cell_type": "code",
      "source": [
        "# Calculate the mean squared error\n",
        "#mse = mean_squared_error(y_test, predictions)\n",
        "\n",
        "# Print the mean squared error\n",
        "#print(mse)"
      ],
      "metadata": {
        "id": "x2lAQngkAxC4"
      },
      "execution_count": null,
      "outputs": []
    },
    {
      "cell_type": "markdown",
      "source": [
        "# Visualizaciones derivadas del modelo"
      ],
      "metadata": {
        "id": "wmvxDHc4ARy3"
      }
    },
    {
      "cell_type": "code",
      "source": [
        "#gráfico de dispersión con los valores reales en el eje x y los valores predichos en el eje y:\n",
        "# Grafica los puntos de entrenamiento\n",
        "plt.scatter(X_train, y_train, label=\"Entrenamiento\", color=\"red\")\n",
        "\n",
        "# Grafica la línea de regresión\n",
        "plt.plot(X_train, model.predict(X_train), label=\"Regresión lineal\")\n",
        "\n",
        "# Establece el título y las etiquetas de los ejes\n",
        "plt.title(\"Regresión lineal\")\n",
        "plt.xlabel(\"Años\")\n",
        "plt.ylabel(\"PIB\")\n",
        "\n",
        "# Muestra la leyenda\n",
        "plt.legend()\n",
        "\n",
        "# Muestra la gráfica\n",
        "plt.show()"
      ],
      "metadata": {
        "id": "JakwIioIAWhZ"
      },
      "execution_count": null,
      "outputs": []
    }
  ]
}